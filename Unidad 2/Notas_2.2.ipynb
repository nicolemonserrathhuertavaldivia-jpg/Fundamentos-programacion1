{
  "metadata": {
    "kernelspec": {
      "name": "xpython",
      "display_name": "Python 3.13 (XPython)",
      "language": "python"
    },
    "language_info": {
      "file_extension": ".py",
      "mimetype": "text/x-python",
      "name": "python",
      "version": "3.13.1"
    }
  },
  "nbformat_minor": 5,
  "nbformat": 4,
  "cells": [
    {
      "id": "c6a049d4-34b5-4d83-9dd2-baea451e38d9",
      "cell_type": "code",
      "source": "for i in range (1,5):\n    print (\"Número i\")\n\n",
      "metadata": {
        "trusted": true
      },
      "outputs": [
        {
          "name": "stdout",
          "output_type": "stream",
          "text": "Número 1\nNúmero 2\nNúmero 3\nNúmero 4\n"
        }
      ],
      "execution_count": 2
    },
    {
      "id": "fe414744-f2ae-4411-b63a-5bea3a52de57",
      "cell_type": "code",
      "source": "suma = 0\n\nfor i in range(1, 11)  \n    suma += i\n\nprint(\"La suma de los primeros 10 números es:\", suma)",
      "metadata": {
        "trusted": true
      },
      "outputs": [
        {
          "name": "stdout",
          "output_type": "stream",
          "text": "La suma de los primeros 10 números es: 55\n"
        }
      ],
      "execution_count": 3
    },
    {
      "id": "b3c1bfdc-f5a1-4fcd-ba31-93ce26709dc9",
      "cell_type": "code",
      "source": "nombres = [\"Ed\", \"Jorge\", \"María\", \"Luisa\"]\n\nfor nombre in nombres:\n    print(\"Hola,\", nombre)",
      "metadata": {
        "trusted": true
      },
      "outputs": [
        {
          "name": "stdout",
          "output_type": "stream",
          "text": "Hola, Ed\nHola, Jorge\nHola, María\nHola, Luisa\n"
        }
      ],
      "execution_count": 9
    },
    {
      "id": "74a1c327-7d44-41db-9a71-6ce9a29f5ede",
      "cell_type": "code",
      "source": "Cumple = int(input(\"¿Cuál es tu edad?\")\nfor i in range(1, Cumple):\nprint(\"Feliz cumpleaños número\",i)",
      "metadata": {
        "trusted": true
      },
      "outputs": [
        {
          "output_type": "stream",
          "name": "stdin",
          "text": "¿Cuál es tu edad? 5\n"
        },
        {
          "name": "stdout",
          "output_type": "stream",
          "text": "Feliz cumpleaños número 1\nFeliz cumpleaños número 2\nFeliz cumpleaños número 3\nFeliz cumpleaños número 4\n"
        }
      ],
      "execution_count": 8
    },
    {
      "id": "c5e6694f-f319-4b86-8aad-ca95a4afb64b",
      "cell_type": "code",
      "source": "#Hacer que con un input se agregue la edad\nopcion = 2\n\nif opcion == 1:\n    print(\"Has elegido guardar el archivo\")\nelif opcion == 2:\n    print(\"Has elegido abrir un archivo\")\nelif opcion == 3:\n    print(\"Has elegido salir del programa\")\nelse:\n    print(\"Opción no válida\")",
      "metadata": {
        "trusted": true
      },
      "outputs": [
        {
          "name": "stdout",
          "output_type": "stream",
          "text": "Has elegido abrir un archivo\n"
        }
      ],
      "execution_count": 10
    },
    {
      "id": "8a258949-082c-403f-a079-89dfd3698c93",
      "cell_type": "code",
      "source": "#Hacer que con un input se agregue la calificación\n\ncalificacion = 75\n\nif calificacion >= 90:\nprint(\"Excelente\")\nelif calificacion >= 70:\nprint(\"Aprobado\")\nelse:\nprint(\"Reprobado\")",
      "metadata": {
        "trusted": true
      },
      "outputs": [
        {
          "ename": "<class 'IndentationError'>",
          "evalue": "expected an indented block after 'if' statement on line 3 (2415882802.py, line 4)",
          "traceback": [
            "  \u001b[36mCell\u001b[39m\u001b[36m \u001b[39m\u001b[32mIn[12]\u001b[39m\u001b[32m, line 4\u001b[39m\n\u001b[31m    \u001b[39m\u001b[31mprint(\"Excelente\")\u001b[39m\n    ^\n\u001b[31mIndentationError\u001b[39m\u001b[31m:\u001b[39m expected an indented block after 'if' statement on line 3\n"
          ],
          "output_type": "error"
        }
      ],
      "execution_count": 12
    },
    {
      "id": "70993120-b8a9-4a49-9738-95649c716e48",
      "cell_type": "code",
      "source": "numero_secreto = 7\nadivinanza = 0\n\nwhile adivinanza == numero_secreto:\n    adivinanza = int(input(\"Adivina el número (1-10): \"))\n\nprint(\"¡Correcto! El número era\", numero_secreto)",
      "metadata": {
        "trusted": true
      },
      "outputs": [
        {
          "output_type": "stream",
          "name": "stdin",
          "text": "Adivina el número (1-10):  5\nAdivina el número (1-10):  6\nAdivina el número (1-10):  7\n"
        },
        {
          "name": "stdout",
          "output_type": "stream",
          "text": "¡Correcto! El número era 7\n"
        }
      ],
      "execution_count": 14
    },
    {
      "id": "c8274d44-eaa9-41b5-bcb4-539af62e83b5",
      "cell_type": "code",
      "source": "contador = 1\n\nwhile contador <= 5:\n    print(\"Número:\", contador)\n    contador += 1  # incrementa el contador",
      "metadata": {
        "trusted": true
      },
      "outputs": [
        {
          "name": "stdout",
          "output_type": "stream",
          "text": "Número: 1\nNúmero: 2\nNúmero: 3\nNúmero: 4\nNúmero: 5\n"
        }
      ],
      "execution_count": 15
    },
    {
      "id": "0dcfb177-069f-47f9-a33c-f0c702d16344",
      "cell_type": "code",
      "source": "",
      "metadata": {
        "trusted": true
      },
      "outputs": [],
      "execution_count": null
    }
  ]
}